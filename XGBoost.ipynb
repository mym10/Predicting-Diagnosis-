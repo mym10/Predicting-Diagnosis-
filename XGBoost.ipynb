{
  "nbformat": 4,
  "nbformat_minor": 0,
  "metadata": {
    "colab": {
      "provenance": []
    },
    "kernelspec": {
      "name": "python3",
      "display_name": "Python 3"
    },
    "language_info": {
      "name": "python"
    }
  },
  "cells": [
    {
      "cell_type": "code",
      "source": [
        "import pandas as pd\n",
        "from sklearn.utils import resample\n",
        "\n",
        "# Load the dataset\n",
        "df = pd.read_csv('Disease_train.csv')\n",
        "\n",
        "# Display the class distribution\n",
        "print(df['diagnosis'].value_counts())\n",
        "\n",
        "# Separate majority and minority classes\n",
        "df_majority = df[df.diagnosis == 0]\n",
        "df_minority = df[df.diagnosis == 1]\n",
        "\n",
        "# Upsample minority class\n",
        "df_minority_upsampled = resample(df_minority,\n",
        "                                 replace=True,     # sample with replacement\n",
        "                                 n_samples=len(df_majority),    # to match majority class\n",
        "                                 random_state=123) # reproducible results\n",
        "\n",
        "# Combine majority class with upsampled minority class\n",
        "df_upsampled = pd.concat([df_majority, df_minority_upsampled])\n",
        "\n",
        "# Display new class counts\n",
        "print(df_upsampled['diagnosis'].value_counts())\n",
        "\n",
        "# Save the balanced dataset to a new CSV file\n",
        "df_upsampled.to_csv('Disease_train_balanced.csv', index=False)\n",
        "print('Balanced dataset saved to Disease_train_balanced.csv')"
      ],
      "metadata": {
        "colab": {
          "base_uri": "https://localhost:8080/"
        },
        "id": "o9znLBVHBdbd",
        "outputId": "9a91b277-9950-45cc-a3ea-060707fbf812"
      },
      "execution_count": null,
      "outputs": [
        {
          "output_type": "stream",
          "name": "stdout",
          "text": [
            "diagnosis\n",
            "0    3804\n",
            "1     196\n",
            "Name: count, dtype: int64\n",
            "diagnosis\n",
            "0    3804\n",
            "1    3804\n",
            "Name: count, dtype: int64\n",
            "Balanced dataset saved to Disease_train_balanced.csv\n"
          ]
        }
      ]
    },
    {
      "cell_type": "code",
      "source": [
        "import matplotlib.pyplot as plt\n",
        "fig, ax = plt.subplots(1, 2)\n",
        "\n",
        "ax[0].bar(df['diagnosis'].value_counts().index, df['diagnosis'].value_counts().values, color='#0F9DAF')\n",
        "ax[0].set_xlabel('Diagnosis')\n",
        "ax[0].set_ylabel('Count')\n",
        "ax[0].set_title('Diagnosis Distribution with imbalance')\n",
        "\n",
        "ax[1].bar(df_upsampled['diagnosis'].value_counts().index, df_upsampled['diagnosis'].value_counts().values, color='#4262BB')\n",
        "ax[1].set_xlabel('Diagnosis')\n",
        "ax[1].set_ylabel('Count')\n",
        "ax[1].set_title('Diagnosis Distribution without imbalance')\n",
        "\n",
        "plt.subplots_adjust(wspace=1.5)\n",
        "plt.show()"
      ],
      "metadata": {
        "colab": {
          "base_uri": "https://localhost:8080/",
          "height": 472
        },
        "id": "ocknaFqmqHIq",
        "outputId": "1fd38dae-a03b-4e11-d3a8-7d3b026e4e5b"
      },
      "execution_count": null,
      "outputs": [
        {
          "output_type": "display_data",
          "data": {
            "text/plain": [
              "<Figure size 640x480 with 2 Axes>"
            ],
            "image/png": "[encoded data removed]"
          },
          "metadata": {}
        }
      ]
    },
    {
      "cell_type": "code",
      "execution_count": null,
      "metadata": {
        "colab": {
          "base_uri": "https://localhost:8080/"
        },
        "id": "sc_VCcks_XqI",
        "outputId": "e23b5db2-0b95-4972-9c71-efa56ccd5b7d"
      },
      "outputs": [
        {
          "output_type": "stream",
          "name": "stdout",
          "text": [
            "   feature_1  feature_2  feature_3  feature_4  feature_5  feature_6  \\\n",
            "0   0.374540   0.950714   0.731994   0.598658   0.156019   0.155995   \n",
            "1   0.020584   0.969910   0.832443   0.212339   0.181825   0.183405   \n",
            "2   0.611853   0.139494   0.292145   0.366362   0.456070   0.785176   \n",
            "3   0.388677   0.271349   0.828738   0.356753   0.280935   0.542696   \n",
            "4   0.772245   0.198716   0.005522   0.815461   0.706857   0.729007   \n",
            "\n",
            "   feature_7  feature_8  feature_9  feature_10  patient_id  diagnosis  \n",
            "0   0.058084   0.866176   0.601115    0.708073           1          0  \n",
            "1   0.304242   0.524756   0.431945    0.291229           2          0  \n",
            "2   0.199674   0.514234   0.592415    0.046450           3          0  \n",
            "3   0.140924   0.802197   0.074551    0.986887           7          0  \n",
            "4   0.771270   0.074045   0.358466    0.115869           8          0  \n",
            "feature_1     0\n",
            "feature_2     0\n",
            "feature_3     0\n",
            "feature_4     0\n",
            "feature_5     0\n",
            "feature_6     0\n",
            "feature_7     0\n",
            "feature_8     0\n",
            "feature_9     0\n",
            "feature_10    0\n",
            "patient_id    0\n",
            "diagnosis     0\n",
            "dtype: int64\n",
            "Fitting 3 folds for each of 72 candidates, totalling 216 fits\n",
            "Best Hyperparameters: {'colsample_bytree': 0.8, 'learning_rate': 0.2, 'max_depth': 5, 'n_estimators': 200, 'subsample': 0.8}\n",
            "Validation Accuracy: 0.9960578186596584\n",
            "Validation ROC AUC Score: 0.9961089494163424\n"
          ]
        },
        {
          "output_type": "execute_result",
          "data": {
            "text/plain": [
              "['scaler.pkl']"
            ]
          },
          "metadata": {},
          "execution_count": 11
        }
      ],
      "source": [
        "import pandas as pd\n",
        "from sklearn.model_selection import train_test_split\n",
        "from sklearn.preprocessing import StandardScaler\n",
        "import xgboost as xgb\n",
        "from sklearn.metrics import accuracy_score, roc_auc_score\n",
        "from sklearn.model_selection import GridSearchCV\n",
        "import joblib\n",
        "import numpy as np\n",
        "\n",
        "# Load the dataset\n",
        "df = pd.read_csv('Disease_train_balanced.csv')\n",
        "\n",
        "# Display the first few rows of the dataframe\n",
        "print(df.head())\n",
        "\n",
        "# Check for missing values\n",
        "print(df.isnull().sum())\n",
        "\n",
        "# Handle missing values (if any)\n",
        "df.fillna(df.mean(), inplace=True)\n",
        "\n",
        "# Separate features and target variable\n",
        "X = df.drop(columns=['patient_id', 'diagnosis'])\n",
        "y = df['diagnosis']\n",
        "\n",
        "# Scale the features\n",
        "scaler = StandardScaler()\n",
        "X_scaled = scaler.fit_transform(X)\n",
        "\n",
        "# Split the dataset into training and validation subsets\n",
        "X_train, X_val, y_train, y_val = train_test_split(X_scaled, y, test_size=0.2, random_state=42)\n",
        "\n",
        "# Initialize the XGBoost model\n",
        "xgb_model = xgb.XGBClassifier(use_label_encoder=False, eval_metric='logloss')\n",
        "\n",
        "# Define the parameter grid for hyperparameter tuning\n",
        "param_grid = {\n",
        "    'n_estimators': [100, 200],\n",
        "    'max_depth': [3, 4, 5],\n",
        "    'learning_rate': [0.01, 0.1, 0.2],\n",
        "    'subsample': [0.8, 1.0],\n",
        "    'colsample_bytree': [0.8, 1.0]\n",
        "}\n",
        "\n",
        "# Perform grid search with cross-validation\n",
        "grid_search = GridSearchCV(estimator=xgb_model, param_grid=param_grid, cv=3, scoring='roc_auc', verbose=1)\n",
        "grid_search.fit(X_train, y_train)\n",
        "\n",
        "# Get the best model from grid search\n",
        "best_model = grid_search.best_estimator_\n",
        "\n",
        "# Evaluate the model on the validation set\n",
        "y_pred = best_model.predict(X_val)\n",
        "accuracy = accuracy_score(y_val, y_pred)\n",
        "roc_auc = roc_auc_score(y_val, y_pred)\n",
        "\n",
        "print('Best Hyperparameters:', grid_search.best_params_)\n",
        "print('Validation Accuracy:', accuracy)\n",
        "print('Validation ROC AUC Score:', roc_auc)\n",
        "\n",
        "# Save the trained model and scaler to a file\n",
        "joblib.dump(best_model, 'xgb_model.pkl')\n",
        "joblib.dump(scaler, 'scaler.pkl')\n"
      ]
    },
    {
      "cell_type": "code",
      "source": [
        "import pandas as pd\n",
        "from sklearn.preprocessing import StandardScaler\n",
        "import joblib\n",
        "\n",
        "# Load the test data\n",
        "test_df = pd.read_csv('Disease_test.csv')\n",
        "\n",
        "# Assuming 'patient_id' is a column in your test data\n",
        "# Separate the features (excluding 'patient_id')\n",
        "X_test = test_df.drop(columns=['patient_id'])\n",
        "\n",
        "# Load the trained model and scaler\n",
        "best_xgb = joblib.load('xgb_model.pkl')\n",
        "scaler = joblib.load('scaler.pkl')\n",
        "\n",
        "# Scale the test data\n",
        "X_test_scaled = scaler.transform(X_test)\n",
        "\n",
        "# Predict the target variable using the trained model\n",
        "y_pred = best_xgb.predict(X_test_scaled)\n",
        "\n",
        "# Add the predictions as a new column to the test DataFrame\n",
        "test_df['prediction'] = y_pred\n",
        "\n",
        "# Keep the 'patient_id' and 'prediction' columns only\n",
        "test_df = test_df[['patient_id', 'prediction']]\n",
        "\n",
        "# Save the DataFrame with predictions to a new CSV file\n",
        "test_df.to_csv('SE22UCSE076_predictions.csv', index=False)\n",
        "\n",
        "print('Predictions saved')\n"
      ],
      "metadata": {
        "colab": {
          "base_uri": "https://localhost:8080/"
        },
        "id": "xXa7QhAuG4Rd",
        "outputId": "3341a0ed-b648-4a6b-c783-d2cdd5d213ff"
      },
      "execution_count": null,
      "outputs": [
        {
          "output_type": "stream",
          "name": "stdout",
          "text": [
            "Predictions saved\n"
          ]
        }
      ]
    },
    {
      "cell_type": "code",
      "source": [],
      "metadata": {
        "id": "PjUADH6eso9H"
      },
      "execution_count": null,
      "outputs": []
    }
  ]
}